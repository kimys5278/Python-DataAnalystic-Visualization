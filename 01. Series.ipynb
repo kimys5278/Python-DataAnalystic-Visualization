{
 "cells": [
  {
   "cell_type": "markdown",
   "id": "35ce4968",
   "metadata": {},
   "source": [
    "# Pandas\n",
    "파이썬 에서 사용하는 데이터 분석 라이브러리"
   ]
  },
  {
   "cell_type": "code",
   "execution_count": 1,
   "id": "e2a87bab",
   "metadata": {},
   "outputs": [],
   "source": [
    "import pandas as pd"
   ]
  },
  {
   "cell_type": "markdown",
   "id": "7d544658",
   "metadata": {},
   "source": [
    "# 1. Series\n",
    "1차원 데이터 (정수,실수,문자열) "
   ]
  },
  {
   "cell_type": "markdown",
   "id": "a03f136d",
   "metadata": {},
   "source": [
    "## Series 객체 생성\n",
    "예) 1월 ~ 4월까지 평균 온도 데이터(-20,-10,10,20)"
   ]
  },
  {
   "cell_type": "code",
   "execution_count": 5,
   "id": "84e56425",
   "metadata": {},
   "outputs": [
    {
     "name": "stdout",
     "output_type": "stream",
     "text": [
      "0   -20\n",
      "1   -10\n",
      "2    10\n",
      "3    20\n",
      "dtype: int64\n"
     ]
    },
    {
     "data": {
      "text/plain": [
       "0   -20\n",
       "1   -10\n",
       "2    10\n",
       "3    20\n",
       "dtype: int64"
      ]
     },
     "execution_count": 5,
     "metadata": {},
     "output_type": "execute_result"
    }
   ],
   "source": [
    "tmp = pd.Series([-20,-10,10,20])\n",
    "print(tmp)\n",
    "tmp"
   ]
  },
  {
   "cell_type": "code",
   "execution_count": 6,
   "id": "2fe8f9f3",
   "metadata": {},
   "outputs": [
    {
     "data": {
      "text/plain": [
       "-20"
      ]
     },
     "execution_count": 6,
     "metadata": {},
     "output_type": "execute_result"
    }
   ],
   "source": [
    "tmp[0] #1월 온도"
   ]
  },
  {
   "cell_type": "code",
   "execution_count": 7,
   "id": "423839a3",
   "metadata": {},
   "outputs": [
    {
     "data": {
      "text/plain": [
       "10"
      ]
     },
     "execution_count": 7,
     "metadata": {},
     "output_type": "execute_result"
    }
   ],
   "source": [
    "tmp[2] #3월 온도 "
   ]
  },
  {
   "cell_type": "markdown",
   "id": "ad9e2ede",
   "metadata": {},
   "source": [
    "# Series 객체 생성(index 지정)"
   ]
  },
  {
   "cell_type": "code",
   "execution_count": 9,
   "id": "23cf3698",
   "metadata": {},
   "outputs": [
    {
     "data": {
      "text/plain": [
       "Jan   -20\n",
       "Feb   -10\n",
       "Mar    10\n",
       "Apr    20\n",
       "dtype: int64"
      ]
     },
     "execution_count": 9,
     "metadata": {},
     "output_type": "execute_result"
    }
   ],
   "source": [
    "tmp = pd.Series([-20,-10,10,20],index=['Jan','Feb','Mar','Apr'])\n",
    "tmp"
   ]
  },
  {
   "cell_type": "code",
   "execution_count": 10,
   "id": "72e0daf2",
   "metadata": {},
   "outputs": [
    {
     "data": {
      "text/plain": [
       "-20"
      ]
     },
     "execution_count": 10,
     "metadata": {},
     "output_type": "execute_result"
    }
   ],
   "source": [
    "tmp['Jan'] #index 'Jan' [1월]에 해당하는 데이터 출력"
   ]
  },
  {
   "cell_type": "code",
   "execution_count": 11,
   "id": "ef23ade3",
   "metadata": {},
   "outputs": [
    {
     "data": {
      "text/plain": [
       "20"
      ]
     },
     "execution_count": 11,
     "metadata": {},
     "output_type": "execute_result"
    }
   ],
   "source": [
    "tmp['Apr'] #index 'Apr' [4월]에 해당하는 데이터 출력"
   ]
  },
  {
   "cell_type": "code",
   "execution_count": null,
   "id": "11e304dd",
   "metadata": {},
   "outputs": [],
   "source": [
    "#tmp['Des'] index 에 없는 [12월]에 해당하는 데이터 출력 ---오류"
   ]
  }
 ],
 "metadata": {
  "kernelspec": {
   "display_name": "Python 3 (ipykernel)",
   "language": "python",
   "name": "python3"
  },
  "language_info": {
   "codemirror_mode": {
    "name": "ipython",
    "version": 3
   },
   "file_extension": ".py",
   "mimetype": "text/x-python",
   "name": "python",
   "nbconvert_exporter": "python",
   "pygments_lexer": "ipython3",
   "version": "3.9.13"
  }
 },
 "nbformat": 4,
 "nbformat_minor": 5
}
